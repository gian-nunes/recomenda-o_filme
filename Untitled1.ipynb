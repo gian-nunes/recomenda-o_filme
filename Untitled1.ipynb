{
  "nbformat": 4,
  "nbformat_minor": 0,
  "metadata": {
    "colab": {
      "provenance": [],
      "authorship_tag": "ABX9TyOE0U437M7LCcbfCyUXmw4Q",
      "include_colab_link": true
    },
    "kernelspec": {
      "name": "python3",
      "display_name": "Python 3"
    },
    "language_info": {
      "name": "python"
    }
  },
  "cells": [
    {
      "cell_type": "markdown",
      "metadata": {
        "id": "view-in-github",
        "colab_type": "text"
      },
      "source": [
        "<a href=\"https://colab.research.google.com/github/gian-nunes/recomenda-o_filme/blob/main/Untitled1.ipynb\" target=\"_parent\"><img src=\"https://colab.research.google.com/assets/colab-badge.svg\" alt=\"Open In Colab\"/></a>"
      ]
    },
    {
      "cell_type": "code",
      "execution_count": 6,
      "metadata": {
        "id": "vOlx-5UZu3vh"
      },
      "outputs": [],
      "source": [
        "import scipy\n",
        "from scipy import stats\n",
        "import numpy as np\n",
        "#criação dos dados que vamos utilizar\n",
        "matrix = np.array ([[8,0,3,4,6,],[5,6,1,8,9],[8,0,0,5,10]])\n",
        "novoUser = [8,0,2,3,0]\n",
        "nao_assistidos = [0,1,0,0,1]\n",
        "\n",
        "nomeFilmes = [\"Round 6\", \"A Invocação do Mal\",\"9 Desconhecidos\", \"You\",\"La casa de Papel\"]\n"
      ]
    },
    {
      "cell_type": "code",
      "source": [
        "#criando um vetor com 3 posições e preencher com zero (vamos colocar os valores da similaridade entre o novoUser e cada outro usuário da matriz )\n",
        "similarity = [0] * 3\n",
        "print(matrix[0][0])\n",
        "print(matrix[1][0])\n",
        "print(matrix[1,:])\n",
        "#para cada usuário no sistema...\n",
        "for i in range(0,3):\n",
        "  #vamos pegar os dados desse usuário\n",
        "  temp = matrix[i,:]\n",
        "\n",
        "  print(i, temp)\n",
        "  #MAS QUEREMOS APENAS COMPARAR OS DADOS QUE O NOVO USER ASSISTIU (OU SEJA... QUE NOVOUSER != 0)\n",
        "  tempUser= [t for n,t in zip(novoUser,temp) if n != 0]\n",
        "  tempNovoUser= [n for n in novoUser if n != 0]\n",
        "\n",
        "  #para verificar o processo\n",
        "  print('user:',i)\n",
        "  print(tempUser, tempNovoUser)\n",
        "\n",
        "  #vamos usar a biblioteca scipy.stats que ja calcula o pearson!!!\n",
        "  similarity[i] = scipy.stats.pearsonr(tempUser,tempNovoUser)[0] #a função retorna dois valores e o primeiro é o coefieciente de pearson\n",
        "print()\n",
        "\n",
        "print(similarity)\n"
      ],
      "metadata": {
        "colab": {
          "base_uri": "https://localhost:8080/"
        },
        "id": "dQZhqJAIwSH1",
        "outputId": "e599fb06-3e6e-48a0-a443-17fc20a70190"
      },
      "execution_count": 37,
      "outputs": [
        {
          "output_type": "stream",
          "name": "stdout",
          "text": [
            "8\n",
            "5\n",
            "[5 6 1 8 9]\n",
            "0 [8 0 3 4 6]\n",
            "user: 0\n",
            "[8, 3, 4] [8, 2, 3]\n",
            "1 [5 6 1 8 9]\n",
            "user: 1\n",
            "[5, 1, 8] [8, 2, 3]\n",
            "2 [ 8  0  0  5 10]\n",
            "user: 2\n",
            "[8, 0, 5] [8, 2, 3]\n",
            "\n",
            "[0.9994237971287663, 0.23621543814299698, 0.8723686098443353]\n"
          ]
        }
      ]
    },
    {
      "cell_type": "code",
      "source": [
        "nota_peso = np.zeros ((3,5))\n",
        "for nUser in range(3):\n",
        "  for nFilme in range(5):\n",
        "    print('nota_peso[',nUser,'][',nFilme,'] = nao_assistidos[',nFilme,'] * matrix[',nUser,'][',nFilme,'] * similarity[',nUser,']')\n",
        "    print('nota_peso[',nUser,'][',nFilme,'] = ', nao_assistidos[nFilme],' * ',matrix[nUser][nFilme],' * ', similarity[nUser])\n",
        "    nota_peso[nUser][nFilme] = nao_assistidos[nFilme] * matrix[nUser][nFilme] * similarity[nUser]\n",
        "print (nota_peso)"
      ],
      "metadata": {
        "colab": {
          "base_uri": "https://localhost:8080/"
        },
        "id": "8A7mgAQs1XhL",
        "outputId": "b43d6822-5ecc-49fc-9bed-eb0c36efc433"
      },
      "execution_count": 48,
      "outputs": [
        {
          "output_type": "stream",
          "name": "stdout",
          "text": [
            "nota_peso[ 0 ][ 0 ] = nao_assistidos[ 0 ] * matrix[ 0 ][ 0 ] * similarity[ 0 ]\n",
            "nota_peso[ 0 ][ 0 ] =  0  *  8  *  0.9994237971287663\n",
            "nota_peso[ 0 ][ 1 ] = nao_assistidos[ 1 ] * matrix[ 0 ][ 1 ] * similarity[ 0 ]\n",
            "nota_peso[ 0 ][ 1 ] =  1  *  0  *  0.9994237971287663\n",
            "nota_peso[ 0 ][ 2 ] = nao_assistidos[ 2 ] * matrix[ 0 ][ 2 ] * similarity[ 0 ]\n",
            "nota_peso[ 0 ][ 2 ] =  0  *  3  *  0.9994237971287663\n",
            "nota_peso[ 0 ][ 3 ] = nao_assistidos[ 3 ] * matrix[ 0 ][ 3 ] * similarity[ 0 ]\n",
            "nota_peso[ 0 ][ 3 ] =  0  *  4  *  0.9994237971287663\n",
            "nota_peso[ 0 ][ 4 ] = nao_assistidos[ 4 ] * matrix[ 0 ][ 4 ] * similarity[ 0 ]\n",
            "nota_peso[ 0 ][ 4 ] =  1  *  6  *  0.9994237971287663\n",
            "nota_peso[ 1 ][ 0 ] = nao_assistidos[ 0 ] * matrix[ 1 ][ 0 ] * similarity[ 1 ]\n",
            "nota_peso[ 1 ][ 0 ] =  0  *  5  *  0.23621543814299698\n",
            "nota_peso[ 1 ][ 1 ] = nao_assistidos[ 1 ] * matrix[ 1 ][ 1 ] * similarity[ 1 ]\n",
            "nota_peso[ 1 ][ 1 ] =  1  *  6  *  0.23621543814299698\n",
            "nota_peso[ 1 ][ 2 ] = nao_assistidos[ 2 ] * matrix[ 1 ][ 2 ] * similarity[ 1 ]\n",
            "nota_peso[ 1 ][ 2 ] =  0  *  1  *  0.23621543814299698\n",
            "nota_peso[ 1 ][ 3 ] = nao_assistidos[ 3 ] * matrix[ 1 ][ 3 ] * similarity[ 1 ]\n",
            "nota_peso[ 1 ][ 3 ] =  0  *  8  *  0.23621543814299698\n",
            "nota_peso[ 1 ][ 4 ] = nao_assistidos[ 4 ] * matrix[ 1 ][ 4 ] * similarity[ 1 ]\n",
            "nota_peso[ 1 ][ 4 ] =  1  *  9  *  0.23621543814299698\n",
            "nota_peso[ 2 ][ 0 ] = nao_assistidos[ 0 ] * matrix[ 2 ][ 0 ] * similarity[ 2 ]\n",
            "nota_peso[ 2 ][ 0 ] =  0  *  8  *  0.8723686098443353\n",
            "nota_peso[ 2 ][ 1 ] = nao_assistidos[ 1 ] * matrix[ 2 ][ 1 ] * similarity[ 2 ]\n",
            "nota_peso[ 2 ][ 1 ] =  1  *  0  *  0.8723686098443353\n",
            "nota_peso[ 2 ][ 2 ] = nao_assistidos[ 2 ] * matrix[ 2 ][ 2 ] * similarity[ 2 ]\n",
            "nota_peso[ 2 ][ 2 ] =  0  *  0  *  0.8723686098443353\n",
            "nota_peso[ 2 ][ 3 ] = nao_assistidos[ 3 ] * matrix[ 2 ][ 3 ] * similarity[ 2 ]\n",
            "nota_peso[ 2 ][ 3 ] =  0  *  5  *  0.8723686098443353\n",
            "nota_peso[ 2 ][ 4 ] = nao_assistidos[ 4 ] * matrix[ 2 ][ 4 ] * similarity[ 2 ]\n",
            "nota_peso[ 2 ][ 4 ] =  1  *  10  *  0.8723686098443353\n",
            "[[0.         0.         0.         0.         5.99654278]\n",
            " [0.         1.41729263 0.         0.         2.12593894]\n",
            " [0.         0.         0.         0.         8.7236861 ]]\n"
          ]
        }
      ]
    },
    {
      "cell_type": "code",
      "source": [
        "notas_acumuladas = np.sum(nota_peso. T,axis=1)\n",
        "print (notas_acumuladas)"
      ],
      "metadata": {
        "colab": {
          "base_uri": "https://localhost:8080/"
        },
        "id": "ej7nz4n38jCz",
        "outputId": "996db7e4-b360-4fad-ebfc-eb90ce1abed1"
      },
      "execution_count": 39,
      "outputs": [
        {
          "output_type": "stream",
          "name": "stdout",
          "text": [
            "[ 0.          1.41729263  0.          0.         16.84616782]\n"
          ]
        }
      ]
    },
    {
      "cell_type": "code",
      "source": [
        "temp_peso = nota_peso\n",
        "temp_peso[nota_peso > 0] = 1\n",
        "print(temp_peso)\n",
        "\n",
        "temp_similaridade = np.zeros((3,5))\n",
        "for nUser in range(3):\n",
        "  for nFilme in range(5):\n",
        "    temp_similaridade[nUser][nFilme] = temp_peso[nUser][nFilme] * similarity[nUser]\n",
        "\n",
        "print(temp_similaridade)\n",
        "\n",
        "similaridade_acumulada = np.sum(temp_similaridade.T,axis=1)\n",
        "print(similaridade_acumulada)"
      ],
      "metadata": {
        "colab": {
          "base_uri": "https://localhost:8080/"
        },
        "id": "JIV8MK8ELXC8",
        "outputId": "30b09b4c-12e7-40e3-da5d-1a19f58ebbef"
      },
      "execution_count": 50,
      "outputs": [
        {
          "output_type": "stream",
          "name": "stdout",
          "text": [
            "[[0. 0. 0. 0. 1.]\n",
            " [0. 1. 0. 0. 1.]\n",
            " [0. 0. 0. 0. 1.]]\n",
            "[[0.         0.         0.         0.         0.9994238 ]\n",
            " [0.         0.23621544 0.         0.         0.23621544]\n",
            " [0.         0.         0.         0.         0.87236861]]\n",
            "[0.         0.23621544 0.         0.         2.10800785]\n"
          ]
        }
      ]
    },
    {
      "cell_type": "code",
      "source": [
        "nota_final =[0] * 5\n",
        "\n",
        "for nFilme in range(5):\n",
        "  if(similaridade_acumulada[nFilme] > 0):\n",
        "    nota_final[nFilme] =  notas_acumuladas[nFilme] / similaridade_acumulada[nFilme]\n",
        "  else:\n",
        "    nota_final[nFilme] = 0\n",
        "\n",
        "print(nota_final)"
      ],
      "metadata": {
        "colab": {
          "base_uri": "https://localhost:8080/"
        },
        "id": "KU4WrfE-PfoW",
        "outputId": "df2f24a0-53f6-42e3-f1c8-ceabc4b672a2"
      },
      "execution_count": 54,
      "outputs": [
        {
          "output_type": "stream",
          "name": "stdout",
          "text": [
            "[0, 6.0, 0, 0, 7.991510972567143]\n"
          ]
        }
      ]
    },
    {
      "cell_type": "code",
      "source": [
        "nAssistidos = sum(nao_assistidos)\n",
        "\n",
        "notasOrdenadasIndex = sorted(range(len(nota_final)),key=nota_final.__getitem__)[::-1][0:nAssistidos]\n",
        "print(notasOrdenadasIndex)\n",
        "#nomeFilmes= ['Round 6',  'A Invocação do Mal','9 Desconhecidos','You' ,'La Casa de Papel']\n",
        "for i in notasOrdenadasIndex:\n",
        "  print(nomeFilmes[i], 'nota: ', nota_final[i])"
      ],
      "metadata": {
        "colab": {
          "base_uri": "https://localhost:8080/"
        },
        "id": "rySxHnCsP5H3",
        "outputId": "31facc37-c2b7-4c75-d4b0-a106e42a03e5"
      },
      "execution_count": 55,
      "outputs": [
        {
          "output_type": "stream",
          "name": "stdout",
          "text": [
            "[4, 1]\n",
            "La casa de Papel nota:  7.991510972567143\n",
            "A Invocação do Mal nota:  6.0\n"
          ]
        }
      ]
    }
  ]
}